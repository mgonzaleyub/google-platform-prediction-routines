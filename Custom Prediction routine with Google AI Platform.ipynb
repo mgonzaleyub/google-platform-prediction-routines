{
 "cells": [
  {
   "attachments": {},
   "cell_type": "markdown",
   "metadata": {},
   "source": [
    "Primero, es necesario entrar en https://cloud.google.com. Es necesario registrarse.\n",
    "\n",
    "Una vez en la consola, navegamos a AI Platform > Notebooks > New Instance.\n",
    "Indicamos el nombre y dejamos el resto de parámetros por defecto. Pulsamos en Create. \n",
    "Con esto hemos podido crear una instancia de un Jupyter Notebook en Google Platform.\n",
    "\n",
    "Accedemos a Storage > Browser > Create Bucket. Indicamos\n",
    " 1-Nombre\n",
    " 2-Location type: Multi-region\n",
    " 3-Access Control: Fine-grained\n",
    "\n",
    "Pulsamos Create y tendremos nuestro bucket. Ahora creamos una carpeta en él llamada model.\n",
    "Subimos a esa carpeta \"cats_vs_dogs.h5\"\n",
    "\n"
   ]
  },
  {
   "cell_type": "code",
   "execution_count": null,
   "metadata": {},
   "outputs": [],
   "source": [
    "!gsutil -m cp gs://rhyme-bucket/model/cats_vs_dog"
   ]
  },
  {
   "cell_type": "code",
   "execution_count": null,
   "metadata": {},
   "outputs": [],
   "source": [
    "import tensorflow as tf\n",
    "\n",
    "model = tf.keras.models.load_model('cats_vs_dogs.h5')\n",
    "model.summary()"
   ]
  },
  {
   "cell_type": "code",
   "execution_count": null,
   "metadata": {},
   "outputs": [],
   "source": [
    "%matplotlib inline\n",
    "import matplotlib.pyplot as plt\n",
    "import numpy as np\n"
   ]
  },
  {
   "cell_type": "markdown",
   "metadata": {},
   "source": [
    "<h1>Testing model</h1>"
   ]
  },
  {
   "cell_type": "code",
   "execution_count": null,
   "metadata": {},
   "outputs": [],
   "source": [
    "def display_pred(image_path)\n",
    "    plt.imshow(plt.imread(image_path))\n",
    "    \n",
    "    x = tf.keras.preprocessing.image.load_img(image_path, target_size=(128,128))\n",
    "    x = tf.keras.applications.mobilenet_v2.preprocess_input(x)\n",
    "    x = np.expand_dims(x, axis=0)\n",
    "    \n",
    "    pred = model.predict(x)[0]\n",
    "    \n",
    "    plt.title('Pred {}'.format(classes[int(pred > 0.5)]))\n",
    "    plt.show()\n",
    "    \n",
    "    print(pred)"
   ]
  },
  {
   "cell_type": "code",
   "execution_count": null,
   "metadata": {},
   "outputs": [],
   "source": [
    "images = ['images/cat1.jpg','images/cat2.jpg','images/dog1.jpg','images/dog2.jpg']\n",
    "display_pred(images[0])\n",
    "display_pred(images[1])"
   ]
  },
  {
   "cell_type": "markdown",
   "metadata": {},
   "source": [
    "<h1>Custom prediction class</h1>"
   ]
  },
  {
   "cell_type": "code",
   "execution_count": null,
   "metadata": {},
   "outputs": [],
   "source": [
    "%%writefile prediction.py\n",
    "\n",
    "import tensorflow as tf\n",
    "import numpy as np\n",
    "import os\n",
    "import base64\n",
    "\n",
    "MODEL_NAME = 'cats_vs_dogs.h5'\n",
    "CLASS_NAMES = ['Cat','Dog']\n",
    "\n",
    "class CatsVsDogsPrediction:\n",
    "    def __init__(self,model):\n",
    "        self._model = model\n",
    "        \n",
    "    def _preprocess(self,instances):\n",
    "        num_examples = len(instances)\n",
    "        x_batch = np.zeros((num_examples,size,size,3))\n",
    "        for i in range(num_examples):\n",
    "            x = np.array(bytearray(base64.b64decode(instances[i])))\n",
    "            x = np.reshape(x,(size,size,3))\n",
    "            x_batch[i] = x\n",
    "            return x_batch\n",
    "        \n",
    "    def _postprocess(self,preds):\n",
    "        results = []\n",
    "        for i, pred in enumerate(preds):\n",
    "            p = np.squeeze(pred)\n",
    "            results.append({\n",
    "                'index' : i,\n",
    "                'class_name': CLASS_NAMES[(int(p>0.5))],\n",
    "                'raw_value': '{:.4f}'.format(p)\n",
    "            })\n",
    "        return results\n",
    "            \n",
    "    def predict(self, instances, **kwargs):\n",
    "        if 'size' in kwargs:\n",
    "            size = int(kwargs.get('size'))\n",
    "        else:\n",
    "            size = 128\n",
    "        #Preprocess\n",
    "        x_batch = self._preprocess(instances,size)\n",
    "        #Predict\n",
    "        preds = self._model.predict(x_batch)\n",
    "        #Postprocess\n",
    "        results = self._postprocess(pred)\n",
    "        return results\n",
    "        \n",
    "    @classmethod\n",
    "    def from_path(cls,model_dir):\n",
    "        model = tf.keras.models.load_model(os.path.join(model_dir,MODEL_NAME))\n",
    "        return cls(model)"
   ]
  },
  {
   "cell_type": "markdown",
   "metadata": {},
   "source": [
    "<h1>Setup script</h1>"
   ]
  },
  {
   "cell_type": "code",
   "execution_count": null,
   "metadata": {},
   "outputs": [],
   "source": [
    "%%writefile setup.py\n",
    "from setuptools import setup\n",
    "setup{\n",
    "    name='cats_vs_dogs',\n",
    "    version='0.0.1',\n",
    "    include_package_data=False,\n",
    "    scripts=['prediction.py']\n",
    "}"
   ]
  },
  {
   "cell_type": "code",
   "execution_count": null,
   "metadata": {},
   "outputs": [],
   "source": [
    "!python3 setup.py sdist --formats=gztar"
   ]
  },
  {
   "cell_type": "code",
   "execution_count": null,
   "metadata": {},
   "outputs": [],
   "source": [
    "!gsutil cp dist/cats_vs_dogs-0.0.1.tar.gz gs://rhyme-bucket/dist/"
   ]
  },
  {
   "cell_type": "markdown",
   "metadata": {},
   "source": [
    "<h1>Deployment</h1>"
   ]
  },
  {
   "cell_type": "markdown",
   "metadata": {},
   "source": [
    "Nos dirigimos a AI Platform > Models > Create model. Ingresamos nombre y Create.\n",
    "\n",
    "Ahora debemos crear una versión en el modelo, mediante la opción Create version. \n",
    "Indicamos nombre,\n",
    "versión 3.7 de Python y en Framework seleccionamos Custom Prediction Routine,\n",
    "ML runtime version: 1.15\n",
    "Machine type: Single core CPU\n",
    "y en la uri del modelo, seleccionamos rhyme-bucket/model.\n",
    "\n",
    "En prediction class, indicamos prediction.{nombreClasePredictora} y guardamos."
   ]
  },
  {
   "cell_type": "markdown",
   "metadata": {},
   "source": [
    "<h1>Predictions</h1>"
   ]
  },
  {
   "cell_type": "code",
   "execution_count": null,
   "metadata": {},
   "outputs": [],
   "source": [
    "from googleapiclient import discovery\n",
    "from PIL import Image\n",
    "import os\n",
    "import base64"
   ]
  },
  {
   "cell_type": "code",
   "execution_count": null,
   "metadata": {},
   "outputs": [],
   "source": [
    "service = discovery.build('ml'.'v1',cache_discovery=False)"
   ]
  },
  {
   "cell_type": "code",
   "execution_count": null,
   "metadata": {},
   "outputs": [],
   "source": [
    "def get_pred_from_model(body, project_name, model_name):\n",
    "    return service.projects().predict(\n",
    "    name='projects/{}/models/{}'.format(project_name,model_name),\n",
    "    body=body  \n",
    "    )"
   ]
  },
  {
   "cell_type": "code",
   "execution_count": null,
   "metadata": {},
   "outputs": [],
   "source": [
    "project_name = 'rhyme-332122'\n",
    "model_name = 'cats_vs_dogs'"
   ]
  },
  {
   "cell_type": "code",
   "execution_count": null,
   "metadata": {},
   "outputs": [],
   "source": [
    "instances = []\n",
    "size = 128\n",
    "\n",
    "for image in images:\n",
    "    img = Image.open(image)\n",
    "    img = img.resize((size,size),Image.ANTIALIAS)\n",
    "    \n",
    "    instances.append(\n",
    "        base64.b64encode(img.tobytes()).decode()\n",
    "    )\n",
    "    img.close()"
   ]
  },
  {
   "cell_type": "code",
   "execution_count": null,
   "metadata": {},
   "outputs": [],
   "source": [
    "body = {\n",
    "    'instances': indstances,\n",
    "    'size' : size\n",
    "}"
   ]
  },
  {
   "cell_type": "code",
   "execution_count": null,
   "metadata": {},
   "outputs": [],
   "source": [
    "response = get_pred_from_model(body,project_name,model_name)"
   ]
  },
  {
   "cell_type": "code",
   "execution_count": null,
   "metadata": {},
   "outputs": [],
   "source": [
    "response"
   ]
  }
 ],
 "metadata": {
  "kernelspec": {
   "display_name": "Python 3",
   "language": "python",
   "name": "python3"
  },
  "language_info": {
   "codemirror_mode": {
    "name": "ipython",
    "version": 3
   },
   "file_extension": ".py",
   "mimetype": "text/x-python",
   "name": "python",
   "nbconvert_exporter": "python",
   "pygments_lexer": "ipython3",
   "version": "3.7.7"
  }
 },
 "nbformat": 4,
 "nbformat_minor": 4
}
